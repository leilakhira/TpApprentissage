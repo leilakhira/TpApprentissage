{
 "cells": [
  {
   "cell_type": "code",
   "execution_count": 1,
   "id": "6987bc56",
   "metadata": {},
   "outputs": [],
   "source": [
    "import pandas as pd\n",
    "from sklearn.model_selection import train_test_split\n",
    "from sklearn.metrics import confusion_matrix\n",
    "from sklearn.svm import SVC\n",
    "from sklearn.ensemble import RandomForestClassifier, AdaBoostClassifier, GradientBoostingClassifier\n",
    "X_ne = pd.read_csv(\"acsincome_ne_allfeaturesTP2.csv\")\n",
    "y_ne = pd.read_csv(\"acsincome_ne_labelTP2.csv\")\n"
   ]
  },
  {
   "cell_type": "code",
   "execution_count": 2,
   "id": "46d64011",
   "metadata": {},
   "outputs": [
    {
     "data": {
      "text/html": [
       "<div>\n",
       "<style scoped>\n",
       "    .dataframe tbody tr th:only-of-type {\n",
       "        vertical-align: middle;\n",
       "    }\n",
       "\n",
       "    .dataframe tbody tr th {\n",
       "        vertical-align: top;\n",
       "    }\n",
       "\n",
       "    .dataframe thead th {\n",
       "        text-align: right;\n",
       "    }\n",
       "</style>\n",
       "<table border=\"1\" class=\"dataframe\">\n",
       "  <thead>\n",
       "    <tr style=\"text-align: right;\">\n",
       "      <th></th>\n",
       "      <th>AGEP</th>\n",
       "      <th>COW</th>\n",
       "      <th>SCHL</th>\n",
       "      <th>MAR</th>\n",
       "      <th>OCCP</th>\n",
       "      <th>POBP</th>\n",
       "      <th>RELP</th>\n",
       "      <th>WKHP</th>\n",
       "      <th>SEX</th>\n",
       "      <th>RAC1P</th>\n",
       "    </tr>\n",
       "  </thead>\n",
       "  <tbody>\n",
       "    <tr>\n",
       "      <th>0</th>\n",
       "      <td>30.0</td>\n",
       "      <td>6.0</td>\n",
       "      <td>14.0</td>\n",
       "      <td>1.0</td>\n",
       "      <td>9610.0</td>\n",
       "      <td>6.0</td>\n",
       "      <td>16.0</td>\n",
       "      <td>40.0</td>\n",
       "      <td>1.0</td>\n",
       "      <td>8.0</td>\n",
       "    </tr>\n",
       "    <tr>\n",
       "      <th>1</th>\n",
       "      <td>21.0</td>\n",
       "      <td>4.0</td>\n",
       "      <td>16.0</td>\n",
       "      <td>5.0</td>\n",
       "      <td>1970.0</td>\n",
       "      <td>6.0</td>\n",
       "      <td>17.0</td>\n",
       "      <td>20.0</td>\n",
       "      <td>1.0</td>\n",
       "      <td>1.0</td>\n",
       "    </tr>\n",
       "    <tr>\n",
       "      <th>2</th>\n",
       "      <td>65.0</td>\n",
       "      <td>2.0</td>\n",
       "      <td>22.0</td>\n",
       "      <td>5.0</td>\n",
       "      <td>2040.0</td>\n",
       "      <td>6.0</td>\n",
       "      <td>17.0</td>\n",
       "      <td>8.0</td>\n",
       "      <td>1.0</td>\n",
       "      <td>1.0</td>\n",
       "    </tr>\n",
       "    <tr>\n",
       "      <th>3</th>\n",
       "      <td>33.0</td>\n",
       "      <td>1.0</td>\n",
       "      <td>14.0</td>\n",
       "      <td>3.0</td>\n",
       "      <td>9610.0</td>\n",
       "      <td>36.0</td>\n",
       "      <td>16.0</td>\n",
       "      <td>40.0</td>\n",
       "      <td>1.0</td>\n",
       "      <td>1.0</td>\n",
       "    </tr>\n",
       "    <tr>\n",
       "      <th>4</th>\n",
       "      <td>18.0</td>\n",
       "      <td>2.0</td>\n",
       "      <td>19.0</td>\n",
       "      <td>5.0</td>\n",
       "      <td>1021.0</td>\n",
       "      <td>6.0</td>\n",
       "      <td>17.0</td>\n",
       "      <td>18.0</td>\n",
       "      <td>2.0</td>\n",
       "      <td>1.0</td>\n",
       "    </tr>\n",
       "  </tbody>\n",
       "</table>\n",
       "</div>"
      ],
      "text/plain": [
       "   AGEP  COW  SCHL  MAR    OCCP  POBP  RELP  WKHP  SEX  RAC1P\n",
       "0  30.0  6.0  14.0  1.0  9610.0   6.0  16.0  40.0  1.0    8.0\n",
       "1  21.0  4.0  16.0  5.0  1970.0   6.0  17.0  20.0  1.0    1.0\n",
       "2  65.0  2.0  22.0  5.0  2040.0   6.0  17.0   8.0  1.0    1.0\n",
       "3  33.0  1.0  14.0  3.0  9610.0  36.0  16.0  40.0  1.0    1.0\n",
       "4  18.0  2.0  19.0  5.0  1021.0   6.0  17.0  18.0  2.0    1.0"
      ]
     },
     "execution_count": 2,
     "metadata": {},
     "output_type": "execute_result"
    }
   ],
   "source": [
    "import pandas as pd\n",
    "import numpy as np\n",
    "from sklearn.utils import shuffle\n",
    "from sklearn.svm import SVR\n",
    "from sklearn.model_selection import train_test_split, cross_val_score\n",
    "from sklearn.preprocessing import StandardScaler\n",
    "from sklearn.ensemble import RandomForestClassifier, AdaBoostClassifier, GradientBoostingClassifier\n",
    "from sklearn.metrics import accuracy_score, classification_report, confusion_matrix\n",
    "import matplotlib.pyplot as plt\n",
    "from sklearn.metrics import ConfusionMatrixDisplay\n",
    "from sklearn.model_selection import GridSearchCV\n",
    "from sklearn.model_selection import learning_curve\n",
    "import warnings\n",
    "warnings.filterwarnings('ignore')\n",
    "# loading the data\n",
    "X = pd.read_csv(\"acsincome_ca_features.csv\")\n",
    "y = pd.read_csv(\"acsincome_ca_labels.csv\")\n",
    "feature_names = X.columns\n",
    "target_name = y.columns\n",
    "X.head()"
   ]
  },
  {
   "cell_type": "code",
   "execution_count": 3,
   "id": "28f76334",
   "metadata": {},
   "outputs": [
    {
     "name": "stdout",
     "output_type": "stream",
     "text": [
      "(19566, 10)\n",
      "(19566, 1)\n"
     ]
    }
   ],
   "source": [
    "# Standrize and split the \n",
    "# shuffle the data, select 10%\n",
    "X, y = shuffle(X, y, random_state=1)\n",
    "\n",
    "num_samples = int(len(X)*0.1)\n",
    "X, y = X[:num_samples], y[:num_samples]\n",
    "\n",
    "print(X.shape)\n",
    "print(y.shape)\n",
    "scaler = StandardScaler()\n",
    "X = scaler.fit_transform(X)\n",
    "\n",
    "X_train, X_test, y_train, y_test = train_test_split(X,y, test_size=0.2)"
   ]
  },
  {
   "cell_type": "code",
   "execution_count": 4,
   "id": "4ed965fa",
   "metadata": {},
   "outputs": [
    {
     "name": "stdout",
     "output_type": "stream",
     "text": [
      "(1956, 10)\n",
      "(1956, 1)\n"
     ]
    }
   ],
   "source": [
    "# shuffle the data, select 10%\n",
    "X, y = shuffle(X, y, random_state=1)\n",
    "\n",
    "num_samples = int(len(X)*0.1)\n",
    "X, y = X[:num_samples], y[:num_samples]\n",
    "\n",
    "print(X.shape)\n",
    "print(y.shape)"
   ]
  },
  {
   "cell_type": "code",
   "execution_count": 5,
   "id": "916fdfee",
   "metadata": {},
   "outputs": [],
   "source": [
    "param_grid_SVC = {\n",
    "    'C': [0.1, 1, 10, 50, 100],\n",
    "    'kernel': ['rbf']\n",
    "}\n",
    "param_grid_randomF = {\n",
    "    'n_estimators': [50, 100, 200],\n",
    "    'max_depth': [None, 10, 20, 30],\n",
    "    'min_samples_split': [2, 5, 10],\n",
    "    'min_samples_leaf': [1, 2, 4]\n",
    "}\n",
    "param_grid_adaboost = {\n",
    "    'n_estimators': [50, 100, 200],                   \n",
    "    'learning_rate': [0.01, 0.1, 1.0, 2.0]\n",
    "}\n",
    "param_grid_gradientboost = {\n",
    "    'n_estimators': [50, 100, 200],\n",
    "    'learning_rate': [0.01, 0.1, 1.0],\n",
    "    'max_depth': [3, 5, 7]\n",
    "}\n",
    "\n",
    "models = []\n",
    "models.append(('SVM', SVR(), param_grid_SVC))\n",
    "models.append(('RF', RandomForestClassifier(), param_grid_randomF))\n",
    "models.append(('AB', AdaBoostClassifier(), param_grid_adaboost))\n",
    "models.append(('GB', GradientBoostingClassifier(), param_grid_gradientboost))"
   ]
  },
  {
   "cell_type": "code",
   "execution_count": 6,
   "id": "ef4219c5",
   "metadata": {},
   "outputs": [
    {
     "name": "stdout",
     "output_type": "stream",
     "text": [
      ">> GridSearch of SVM in progress ...\n",
      ">> GridSearch of RF in progress ...\n",
      ">> GridSearch of AB in progress ...\n",
      ">> GridSearch of GB in progress ...\n"
     ]
    }
   ],
   "source": [
    "names = []\n",
    "best_estimators = []\n",
    "best_hyperparams = []\n",
    "best_scores = []\n",
    "\n",
    "for name, model, params in models:\n",
    "    print( \">> GridSearch of {} in progress ...\".format(name))\n",
    "    grid_search = GridSearchCV(estimator=model, param_grid=params, scoring='accuracy', cv=5)\n",
    "    grid_search.fit(X_train,y_train)\n",
    "    names.append(name)\n",
    "    best_estimators.append(grid_search.best_estimator_)\n",
    "    best_hyperparams.append(grid_search.best_params_)\n",
    "    best_scores.append(grid_search.best_score_)"
   ]
  },
  {
   "cell_type": "code",
   "execution_count": 54,
   "id": "69867032",
   "metadata": {
    "scrolled": true
   },
   "outputs": [
    {
     "name": "stdout",
     "output_type": "stream",
     "text": [
      "AGEP     0\n",
      "COW      0\n",
      "SCHL     0\n",
      "MAR      0\n",
      "OCCP     0\n",
      "POBP     0\n",
      "RELP     0\n",
      "WKHP     0\n",
      "SEX      0\n",
      "RAC1P    0\n",
      "dtype: int64\n",
      "PINCP    0\n",
      "dtype: int64\n",
      "-0.9460959372092215\n"
     ]
    }
   ],
   "source": [
    "from sklearn.metrics import ConfusionMatrixDisplay\n",
    "\n",
    "# ############# NEVADA DATASET ###################\n",
    "X_ne = pd.read_csv(\"acsincome_ne_allfeaturesTP2.csv\")\n",
    "y_ne = pd.read_csv(\"acsincome_ne_labelTP2.csv\")\n",
    "\n",
    "feature_names_ne = X_ne.columns\n",
    "target_name_ne = y_ne.columns\n",
    "\n",
    "X_ne.head()\n",
    "\n",
    "# checking for missing values\n",
    "print(X_ne.isnull().sum())\n",
    "print(y_ne.isnull().sum())\n",
    "\n",
    "\n",
    "# Standrize the data\n",
    "scaler_ne = StandardScaler()\n",
    "X_ne = scaler_ne.fit_transform(X_ne)\n",
    "\n",
    "X_ne = pd.DataFrame(X_ne, columns = feature_names_ne)\n",
    "y_ne = pd.DataFrame(y_ne, columns = target_name_ne)\n",
    "print(X_ne[\"SEX\"][1])\n",
    "def plot_confusion_matrix(cm) :\n",
    "    disp = ConfusionMatrixDisplay(confusion_matrix=cm, display_labels = [False, True])\n",
    "    disp.plot(cmap=plt.cm.Blues)\n",
    "    plt.show()\n"
   ]
  },
  {
   "cell_type": "code",
   "execution_count": 62,
   "id": "288d3f3b",
   "metadata": {
    "scrolled": false
   },
   "outputs": [
    {
     "name": "stdout",
     "output_type": "stream",
     "text": [
      "['SVM', 'RF', 'AB', 'GB']\n",
      "[SVR(C=0.1), RandomForestClassifier(max_depth=10, min_samples_leaf=4, min_samples_split=5,\n",
      "                       n_estimators=50), AdaBoostClassifier(n_estimators=200), GradientBoostingClassifier(n_estimators=200)]\n",
      "m  5691   5691\n",
      "f  5094   5094\n",
      "Missing values in y_ne_male: PINCP    0\n",
      "dtype: int64\n",
      "Missing values in y_ne_female: PINCP    0\n",
      "dtype: int64\n",
      ">> SVM\n",
      "la matrice de confusion pour SEX='male'\n",
      "[[2403 1093]\n",
      " [ 513 1682]]\n",
      "la matrice de confusion pour SEX='female'\n",
      "[[3042  879]\n",
      " [ 305  868]]\n",
      ">> RF\n",
      "la matrice de confusion pour SEX='male'\n",
      "[[2593  903]\n",
      " [ 663 1532]]\n",
      "la matrice de confusion pour SEX='female'\n",
      "[[3000  921]\n",
      " [ 288  885]]\n",
      ">> AB\n",
      "la matrice de confusion pour SEX='male'\n",
      "[[2309 1187]\n",
      " [ 562 1633]]\n",
      "la matrice de confusion pour SEX='female'\n",
      "[[2972  949]\n",
      " [ 356  817]]\n",
      ">> GB\n",
      "la matrice de confusion pour SEX='male'\n",
      "[[2401 1095]\n",
      " [ 509 1686]]\n",
      "la matrice de confusion pour SEX='female'\n",
      "[[3025  896]\n",
      " [ 336  837]]\n"
     ]
    }
   ],
   "source": [
    "print (names)\n",
    "print(best_estimators)\n",
    "\n",
    "# a)\n",
    "dataset = pd.concat([X_ne, y_ne], axis=1)\n",
    "\n",
    "male_group_dataset = dataset[dataset['SEX'] == -0.9460959372092215]\n",
    "female_group_dataset = dataset[dataset['SEX'] == 1.0569752608279706]\n",
    "\n",
    "y_ne_male = male_group_dataset[['PINCP']].copy()\n",
    "y_ne_female = female_group_dataset[['PINCP']].copy()\n",
    "\n",
    "X_ne_male = male_group_dataset.drop('PINCP', axis=1)\n",
    "X_ne_female = female_group_dataset.drop('PINCP', axis=1)\n",
    "\n",
    "print(\"m \",len(X_ne_male),\" \",len(y_ne_male))\n",
    "print(\"f \",len(X_ne_female),\" \",len(y_ne_female))\n",
    "from sklearn.metrics import confusion_matrix\n",
    "import matplotlib.pyplot as plt\n",
    "import seaborn as sns\n",
    "\n",
    "# Check for missing values in y_ne_male and y_ne_female\n",
    "print(\"Missing values in y_ne_male:\", y_ne_male.isnull().sum())\n",
    "print(\"Missing values in y_ne_female:\", y_ne_female.isnull().sum())\n",
    "\n",
    "# Drop rows with missing values in true labels\n",
    "y_ne_male.dropna(inplace=True)\n",
    "y_ne_female.dropna(inplace=True)\n",
    "X_ne_male = X_ne_male.loc[y_ne_male.index]  # Update X_ne_male based on dropped indices\n",
    "X_ne_female = X_ne_female.loc[y_ne_female.index]  # Update X_ne_female based on dropped indices\n",
    "\n",
    "for index, best_model in enumerate(best_estimators):\n",
    "    print(\">> {}\".format(names[index]))\n",
    "    print(\"la matrice de confusion pour SEX='male'\")\n",
    "    y_pred_male = best_model.predict(X_ne_male)\n",
    "    print(confusion_matrix(y_ne_male, y_pred_male.round()))\n",
    "    #plot_confusion_matrix(confusion_matrix(y_ne_male, y_pred_male.round()))\n",
    "    print(\"la matrice de confusion pour SEX='female'\")\n",
    "    y_pred_female = best_model.predict(X_ne_female)\n",
    "    print(confusion_matrix(y_ne_female, y_pred_female.round()))\n",
    "    #plot_confusion_matrix(confusion_matrix(y_ne_female, y_pred_female.round()))"
   ]
  },
  {
   "cell_type": "code",
   "execution_count": null,
   "id": "25d9ca45",
   "metadata": {},
   "outputs": [],
   "source": [
    "X_train = pd.DataFrame(X_train, columns = feature_names)\n",
    "y_train = pd.DataFrame(y_train, columns = target_name)\n",
    "X_test = pd.DataFrame(X_test, columns = feature_names)\n",
    "y_test = pd.DataFrame(y_test, columns = target_name)\n",
    "xtrain = pd.DataFrame(X_train)\n",
    "ytrain = pd.DataFrame(y_train)"
   ]
  },
  {
   "cell_type": "code",
   "execution_count": 56,
   "id": "b549725e",
   "metadata": {},
   "outputs": [
    {
     "name": "stdout",
     "output_type": "stream",
     "text": [
      ">>> SVM\n",
      ">> Train set - selection_rate :\n",
      "SEX\n",
      "-0.944500    0.0\n",
      " 1.058761    0.0\n",
      "Name: selection_rate, dtype: float64\n",
      ">> Test set - selection_rate :\n",
      "SEX\n",
      "-0.944500    0.0\n",
      " 1.058761    0.0\n",
      "Name: selection_rate, dtype: float64\n",
      ">> Train set - equalized_odds_difference :\n",
      "0.08490225581761146\n",
      ">> Test set - equalized_odds_difference :\n",
      "0.09287486932123304\n",
      ">>> RF\n",
      ">> Train set - selection_rate :\n",
      "SEX\n",
      "-0.944500    0.466432\n",
      " 1.058761    0.339447\n",
      "Name: selection_rate, dtype: float64\n",
      ">> Test set - selection_rate :\n",
      "SEX\n",
      "-0.944500    0.455798\n",
      " 1.058761    0.347514\n",
      "Name: selection_rate, dtype: float64\n",
      ">> Train set - equalized_odds_difference :\n",
      "0.052044956091538586\n",
      ">> Test set - equalized_odds_difference :\n",
      "0.09021045239479764\n",
      ">>> AB\n",
      ">> Train set - selection_rate :\n",
      "SEX\n",
      "-0.944500    0.479422\n",
      " 1.058761    0.332839\n",
      "Name: selection_rate, dtype: float64\n",
      ">> Test set - selection_rate :\n",
      "SEX\n",
      "-0.944500    0.466255\n",
      " 1.058761    0.332044\n",
      "Name: selection_rate, dtype: float64\n",
      ">> Train set - equalized_odds_difference :\n",
      "0.08121418247757095\n",
      ">> Test set - equalized_odds_difference :\n",
      "0.10721537449595331\n",
      ">>> GB\n",
      ">> Train set - selection_rate :\n",
      "SEX\n",
      "-0.944500    0.474080\n",
      " 1.058761    0.335536\n",
      "Name: selection_rate, dtype: float64\n",
      ">> Test set - selection_rate :\n",
      "SEX\n",
      "-0.944500    0.461027\n",
      " 1.058761    0.345304\n",
      "Name: selection_rate, dtype: float64\n",
      ">> Train set - equalized_odds_difference :\n",
      "0.07865683734430229\n",
      ">> Test set - equalized_odds_difference :\n",
      "0.10338954506312303\n"
     ]
    }
   ],
   "source": [
    "for index, best_model in enumerate(best_estimators):\n",
    "    print(\">>> {}\".format(names[index]))\n",
    "\n",
    "    # selection_rate : Pour le training\n",
    "    print(\">> Train set - selection_rate :\")\n",
    "    y_pred_train = best_model.predict(X_train)\n",
    "    metric_frame = MetricFrame(metrics= selection_rate, y_true=y_train, y_pred=y_pred_train, sensitive_features=X_train['SEX'])\n",
    "    print(metric_frame.by_group)\n",
    "    \n",
    "    # selection_rate : Pour le test\n",
    "    print(\">> Test set - selection_rate :\")\n",
    "    y_pred_test = best_model.predict(X_test)\n",
    "    metric_frame = MetricFrame(metrics= selection_rate, y_true=y_test, y_pred=y_pred_test, sensitive_features=X_test['SEX'])\n",
    "    print(metric_frame.by_group)\n",
    "\n",
    "    \n",
    "    # equalized_odds_difference : Pour le training\n",
    "    print(\">> Train set - equalized_odds_difference :\")\n",
    "    y_pred_train = best_model.predict(X_train)\n",
    "    y_true_mapped = np.array(y_train, dtype=int)\n",
    "    y_pred_mapped = np.array(y_pred_train, dtype=int)\n",
    "    metric_parity = equalized_odds_difference(y_true=y_true_mapped, y_pred=y_pred_mapped, sensitive_features=X_train['SEX'],method='between_groups')\n",
    "    print(metric_parity)\n",
    "\n",
    "    # equalized_odds_difference : Pour le test\n",
    "    print(\">> Test set - equalized_odds_difference :\")\n",
    "    y_pred_test = best_model.predict(X_test)\n",
    "    y_true_mapped_ = np.array(y_test, dtype=int)\n",
    "    y_pred_mapped_ = np.array(y_pred_test, dtype=int)\n",
    "    metric_parity = equalized_odds_difference(y_true=y_true_mapped_, y_pred=y_pred_mapped_, sensitive_features=X_test['SEX'],method='between_groups')\n",
    "    print(metric_parity)\n",
    "    "
   ]
  },
  {
   "cell_type": "code",
   "execution_count": null,
   "id": "2c259400",
   "metadata": {},
   "outputs": [],
   "source": []
  },
  {
   "cell_type": "code",
   "execution_count": 64,
   "id": "fb729ced",
   "metadata": {
    "scrolled": false
   },
   "outputs": [
    {
     "name": "stdout",
     "output_type": "stream",
     "text": [
      ">> SVM\n"
     ]
    },
    {
     "data": {
      "image/png": "[encoded data removed]",
      "text/plain": [
       "<Figure size 640x480 with 2 Axes>"
      ]
     },
     "metadata": {},
     "output_type": "display_data"
    },
    {
     "name": "stdout",
     "output_type": "stream",
     "text": [
      ">> RF\n"
     ]
    },
    {
     "data": {
      "image/png": "[encoded data removed]",
      "text/plain": [
       "<Figure size 640x480 with 2 Axes>"
      ]
     },
     "metadata": {},
     "output_type": "display_data"
    },
    {
     "name": "stdout",
     "output_type": "stream",
     "text": [
      ">> AB\n"
     ]
    },
    {
     "data": {
      "image/png": "[encoded data removed]",
      "text/plain": [
       "<Figure size 640x480 with 2 Axes>"
      ]
     },
     "metadata": {},
     "output_type": "display_data"
    },
    {
     "name": "stdout",
     "output_type": "stream",
     "text": [
      ">> GB\n"
     ]
    },
    {
     "data": {
      "image/png": "[encoded data removed]",
      "text/plain": [
       "<Figure size 640x480 with 2 Axes>"
      ]
     },
     "metadata": {},
     "output_type": "display_data"
    }
   ],
   "source": [
    "# c) \n",
    "\n",
    "X = pd.read_csv(\"acsincome_ca_features_without_sex.csv\")\n",
    "y = pd.read_csv(\"acsincome_ca_labels.csv\")\n",
    "\n",
    "# shuffle the data, select 10%\n",
    "X, y = shuffle(X, y, random_state=1)\n",
    "\n",
    "num_samples = int(len(X)*0.1)\n",
    "X, y = X[:num_samples], y[:num_samples]\n",
    "\n",
    "# Standrize and split the data\n",
    "scaler = StandardScaler()\n",
    "X = scaler.fit_transform(X)\n",
    "\n",
    "X_train_new, X_test_new, y_train_new, y_test_new = train_test_split(X,y, test_size=0.2)\n",
    "# we kept the same best models as before with the same hyperparameters, and we create new model instances of them\n",
    "models = [SVR(C= 0.1, kernel= 'rbf')]\n",
    "models.append( RandomForestClassifier(max_depth = 10, min_samples_leaf = 2, min_samples_split= 2, n_estimators =  100))\n",
    "models.append(AdaBoostClassifier(learning_rate= 1.0, n_estimators=200))\n",
    "models.append(GradientBoostingClassifier(learning_rate=0.1, max_depth=5, n_estimators=200))\n",
    "\n",
    "for index, model in enumerate(models):\n",
    "    print(\">> {}\".format(names[index]))\n",
    "    model.fit(X_train_new,y_train_new)\n",
    "    y_pred_new = model.predict(X_test_new)\n",
    "    plot_confusion_matrix(confusion_matrix(y_test_new, y_pred_new.round()))"
   ]
  },
  {
   "cell_type": "code",
   "execution_count": 68,
   "id": "3db2537c",
   "metadata": {
    "scrolled": false
   },
   "outputs": [
    {
     "name": "stdout",
     "output_type": "stream",
     "text": [
      ">> SVM\n",
      ">> Train set - selection_rate :\n"
     ]
    },
    {
     "ename": "ValueError",
     "evalue": "The feature names should match those that were passed during fit.\nFeature names seen at fit time, yet now missing:\n- RAC1P\n",
     "output_type": "error",
     "traceback": [
      "\u001b[1;31m---------------------------------------------------------------------------\u001b[0m",
      "\u001b[1;31mValueError\u001b[0m                                Traceback (most recent call last)",
      "Cell \u001b[1;32mIn[68], line 7\u001b[0m\n\u001b[0;32m      5\u001b[0m \u001b[38;5;66;03m# selection_rate : Pour le training\u001b[39;00m\n\u001b[0;32m      6\u001b[0m \u001b[38;5;28mprint\u001b[39m(\u001b[38;5;124m\"\u001b[39m\u001b[38;5;124m>> Train set - selection_rate :\u001b[39m\u001b[38;5;124m\"\u001b[39m)\n\u001b[1;32m----> 7\u001b[0m y_pred_train \u001b[38;5;241m=\u001b[39m best_model\u001b[38;5;241m.\u001b[39mpredict(X_train)\n\u001b[0;32m      8\u001b[0m metric_frame \u001b[38;5;241m=\u001b[39m MetricFrame(metrics\u001b[38;5;241m=\u001b[39m selection_rate, y_true\u001b[38;5;241m=\u001b[39my_train, y_pred\u001b[38;5;241m=\u001b[39my_pred_train, sensitive_features\u001b[38;5;241m=\u001b[39mX_train[\u001b[38;5;124m'\u001b[39m\u001b[38;5;124mRAC1P\u001b[39m\u001b[38;5;124m'\u001b[39m])\n\u001b[0;32m      9\u001b[0m \u001b[38;5;28mprint\u001b[39m(metric_frame\u001b[38;5;241m.\u001b[39mby_group)\n",
      "File \u001b[1;32m~\\anaconda3\\envs\\projet-int\\Lib\\site-packages\\sklearn\\svm\\_base.py:431\u001b[0m, in \u001b[0;36mBaseLibSVM.predict\u001b[1;34m(self, X)\u001b[0m\n\u001b[0;32m    415\u001b[0m \u001b[38;5;28;01mdef\u001b[39;00m \u001b[38;5;21mpredict\u001b[39m(\u001b[38;5;28mself\u001b[39m, X):\n\u001b[0;32m    416\u001b[0m \u001b[38;5;250m    \u001b[39m\u001b[38;5;124;03m\"\"\"Perform regression on samples in X.\u001b[39;00m\n\u001b[0;32m    417\u001b[0m \n\u001b[0;32m    418\u001b[0m \u001b[38;5;124;03m    For an one-class model, +1 (inlier) or -1 (outlier) is returned.\u001b[39;00m\n\u001b[1;32m   (...)\u001b[0m\n\u001b[0;32m    429\u001b[0m \u001b[38;5;124;03m        The predicted values.\u001b[39;00m\n\u001b[0;32m    430\u001b[0m \u001b[38;5;124;03m    \"\"\"\u001b[39;00m\n\u001b[1;32m--> 431\u001b[0m     X \u001b[38;5;241m=\u001b[39m \u001b[38;5;28mself\u001b[39m\u001b[38;5;241m.\u001b[39m_validate_for_predict(X)\n\u001b[0;32m    432\u001b[0m     predict \u001b[38;5;241m=\u001b[39m \u001b[38;5;28mself\u001b[39m\u001b[38;5;241m.\u001b[39m_sparse_predict \u001b[38;5;28;01mif\u001b[39;00m \u001b[38;5;28mself\u001b[39m\u001b[38;5;241m.\u001b[39m_sparse \u001b[38;5;28;01melse\u001b[39;00m \u001b[38;5;28mself\u001b[39m\u001b[38;5;241m.\u001b[39m_dense_predict\n\u001b[0;32m    433\u001b[0m     \u001b[38;5;28;01mreturn\u001b[39;00m predict(X)\n",
      "File \u001b[1;32m~\\anaconda3\\envs\\projet-int\\Lib\\site-packages\\sklearn\\svm\\_base.py:611\u001b[0m, in \u001b[0;36mBaseLibSVM._validate_for_predict\u001b[1;34m(self, X)\u001b[0m\n\u001b[0;32m    608\u001b[0m check_is_fitted(\u001b[38;5;28mself\u001b[39m)\n\u001b[0;32m    610\u001b[0m \u001b[38;5;28;01mif\u001b[39;00m \u001b[38;5;129;01mnot\u001b[39;00m \u001b[38;5;28mcallable\u001b[39m(\u001b[38;5;28mself\u001b[39m\u001b[38;5;241m.\u001b[39mkernel):\n\u001b[1;32m--> 611\u001b[0m     X \u001b[38;5;241m=\u001b[39m \u001b[38;5;28mself\u001b[39m\u001b[38;5;241m.\u001b[39m_validate_data(\n\u001b[0;32m    612\u001b[0m         X,\n\u001b[0;32m    613\u001b[0m         accept_sparse\u001b[38;5;241m=\u001b[39m\u001b[38;5;124m\"\u001b[39m\u001b[38;5;124mcsr\u001b[39m\u001b[38;5;124m\"\u001b[39m,\n\u001b[0;32m    614\u001b[0m         dtype\u001b[38;5;241m=\u001b[39mnp\u001b[38;5;241m.\u001b[39mfloat64,\n\u001b[0;32m    615\u001b[0m         order\u001b[38;5;241m=\u001b[39m\u001b[38;5;124m\"\u001b[39m\u001b[38;5;124mC\u001b[39m\u001b[38;5;124m\"\u001b[39m,\n\u001b[0;32m    616\u001b[0m         accept_large_sparse\u001b[38;5;241m=\u001b[39m\u001b[38;5;28;01mFalse\u001b[39;00m,\n\u001b[0;32m    617\u001b[0m         reset\u001b[38;5;241m=\u001b[39m\u001b[38;5;28;01mFalse\u001b[39;00m,\n\u001b[0;32m    618\u001b[0m     )\n\u001b[0;32m    620\u001b[0m \u001b[38;5;28;01mif\u001b[39;00m \u001b[38;5;28mself\u001b[39m\u001b[38;5;241m.\u001b[39m_sparse \u001b[38;5;129;01mand\u001b[39;00m \u001b[38;5;129;01mnot\u001b[39;00m sp\u001b[38;5;241m.\u001b[39missparse(X):\n\u001b[0;32m    621\u001b[0m     X \u001b[38;5;241m=\u001b[39m sp\u001b[38;5;241m.\u001b[39mcsr_matrix(X)\n",
      "File \u001b[1;32m~\\anaconda3\\envs\\projet-int\\Lib\\site-packages\\sklearn\\base.py:580\u001b[0m, in \u001b[0;36mBaseEstimator._validate_data\u001b[1;34m(self, X, y, reset, validate_separately, cast_to_ndarray, **check_params)\u001b[0m\n\u001b[0;32m    509\u001b[0m \u001b[38;5;28;01mdef\u001b[39;00m \u001b[38;5;21m_validate_data\u001b[39m(\n\u001b[0;32m    510\u001b[0m     \u001b[38;5;28mself\u001b[39m,\n\u001b[0;32m    511\u001b[0m     X\u001b[38;5;241m=\u001b[39m\u001b[38;5;124m\"\u001b[39m\u001b[38;5;124mno_validation\u001b[39m\u001b[38;5;124m\"\u001b[39m,\n\u001b[1;32m   (...)\u001b[0m\n\u001b[0;32m    516\u001b[0m     \u001b[38;5;241m*\u001b[39m\u001b[38;5;241m*\u001b[39mcheck_params,\n\u001b[0;32m    517\u001b[0m ):\n\u001b[0;32m    518\u001b[0m \u001b[38;5;250m    \u001b[39m\u001b[38;5;124;03m\"\"\"Validate input data and set or check the `n_features_in_` attribute.\u001b[39;00m\n\u001b[0;32m    519\u001b[0m \n\u001b[0;32m    520\u001b[0m \u001b[38;5;124;03m    Parameters\u001b[39;00m\n\u001b[1;32m   (...)\u001b[0m\n\u001b[0;32m    578\u001b[0m \u001b[38;5;124;03m        validated.\u001b[39;00m\n\u001b[0;32m    579\u001b[0m \u001b[38;5;124;03m    \"\"\"\u001b[39;00m\n\u001b[1;32m--> 580\u001b[0m     \u001b[38;5;28mself\u001b[39m\u001b[38;5;241m.\u001b[39m_check_feature_names(X, reset\u001b[38;5;241m=\u001b[39mreset)\n\u001b[0;32m    582\u001b[0m     \u001b[38;5;28;01mif\u001b[39;00m y \u001b[38;5;129;01mis\u001b[39;00m \u001b[38;5;28;01mNone\u001b[39;00m \u001b[38;5;129;01mand\u001b[39;00m \u001b[38;5;28mself\u001b[39m\u001b[38;5;241m.\u001b[39m_get_tags()[\u001b[38;5;124m\"\u001b[39m\u001b[38;5;124mrequires_y\u001b[39m\u001b[38;5;124m\"\u001b[39m]:\n\u001b[0;32m    583\u001b[0m         \u001b[38;5;28;01mraise\u001b[39;00m \u001b[38;5;167;01mValueError\u001b[39;00m(\n\u001b[0;32m    584\u001b[0m             \u001b[38;5;124mf\u001b[39m\u001b[38;5;124m\"\u001b[39m\u001b[38;5;124mThis \u001b[39m\u001b[38;5;132;01m{\u001b[39;00m\u001b[38;5;28mself\u001b[39m\u001b[38;5;241m.\u001b[39m\u001b[38;5;18m__class__\u001b[39m\u001b[38;5;241m.\u001b[39m\u001b[38;5;18m__name__\u001b[39m\u001b[38;5;132;01m}\u001b[39;00m\u001b[38;5;124m estimator \u001b[39m\u001b[38;5;124m\"\u001b[39m\n\u001b[0;32m    585\u001b[0m             \u001b[38;5;124m\"\u001b[39m\u001b[38;5;124mrequires y to be passed, but the target y is None.\u001b[39m\u001b[38;5;124m\"\u001b[39m\n\u001b[0;32m    586\u001b[0m         )\n",
      "File \u001b[1;32m~\\anaconda3\\envs\\projet-int\\Lib\\site-packages\\sklearn\\base.py:507\u001b[0m, in \u001b[0;36mBaseEstimator._check_feature_names\u001b[1;34m(self, X, reset)\u001b[0m\n\u001b[0;32m    502\u001b[0m \u001b[38;5;28;01mif\u001b[39;00m \u001b[38;5;129;01mnot\u001b[39;00m missing_names \u001b[38;5;129;01mand\u001b[39;00m \u001b[38;5;129;01mnot\u001b[39;00m unexpected_names:\n\u001b[0;32m    503\u001b[0m     message \u001b[38;5;241m+\u001b[39m\u001b[38;5;241m=\u001b[39m (\n\u001b[0;32m    504\u001b[0m         \u001b[38;5;124m\"\u001b[39m\u001b[38;5;124mFeature names must be in the same order as they were in fit.\u001b[39m\u001b[38;5;130;01m\\n\u001b[39;00m\u001b[38;5;124m\"\u001b[39m\n\u001b[0;32m    505\u001b[0m     )\n\u001b[1;32m--> 507\u001b[0m \u001b[38;5;28;01mraise\u001b[39;00m \u001b[38;5;167;01mValueError\u001b[39;00m(message)\n",
      "\u001b[1;31mValueError\u001b[0m: The feature names should match those that were passed during fit.\nFeature names seen at fit time, yet now missing:\n- RAC1P\n"
     ]
    }
   ],
   "source": [
    "# e)\n",
    "for index, best_model in enumerate(best_estimators):\n",
    "    print(\">> {}\".format(names[index]))\n",
    "    \n",
    "    # selection_rate : Pour le training\n",
    "    print(\">> Train set - selection_rate :\")\n",
    "    y_pred_train = best_model.predict(X_train)\n",
    "    metric_frame = MetricFrame(metrics= selection_rate, y_true=y_train, y_pred=y_pred_train, sensitive_features=X_train['RAC1P'])\n",
    "    print(metric_frame.by_group)\n",
    "    \n",
    "    # selection_rate : Pour le test\n",
    "    print(\">> Test set - selection_rate :\")\n",
    "    y_pred_test = best_model.predict(X_test)\n",
    "    metric_frame = MetricFrame(metrics= selection_rate, y_true=y_test, y_pred=y_pred_test, sensitive_features=X_test['RAC1P'])\n",
    "    print(metric_frame.by_group)\n",
    "\n",
    "    \n",
    "    # equalized_odds_difference : Pour le training\n",
    "    print(\">> Train set - equalized_odds_difference :\")\n",
    "    y_pred_train = best_model.predict(X_train)\n",
    "    y_true_mapped = np.array(y_train, dtype=int)\n",
    "    y_pred_mapped = np.array(y_pred_train, dtype=int)\n",
    "    metric_parity = equalized_odds_difference(y_true=y_true_mapped, y_pred=y_pred_mapped, sensitive_features=X_train['RAC1P'],method='between_groups')\n",
    "    print(metric_parity)\n",
    "\n",
    "    # equalized_odds_difference : Pour le test\n",
    "    print(\">> Test set - equalized_odds_difference :\")\n",
    "    y_pred_test = best_model.predict(X_test)\n",
    "    y_true_mapped_ = np.array(y_test, dtype=int)\n",
    "    y_pred_mapped_ = np.array(y_pred_test, dtype=int)\n",
    "    metric_parity = equalized_odds_difference(y_true=y_true_mapped_, y_pred=y_pred_mapped_, sensitive_features=X_test['RAC1P'],method='between_groups')\n",
    "    print(metric_parity)"
   ]
  },
  {
   "cell_type": "code",
   "execution_count": 67,
   "id": "f48ff90d",
   "metadata": {},
   "outputs": [
    {
     "ename": "KeyError",
     "evalue": "\"['RAC1P'] not found in axis\"",
     "output_type": "error",
     "traceback": [
      "\u001b[1;31m---------------------------------------------------------------------------\u001b[0m",
      "\u001b[1;31mKeyError\u001b[0m                                  Traceback (most recent call last)",
      "Cell \u001b[1;32mIn[67], line 8\u001b[0m\n\u001b[0;32m      5\u001b[0m models\u001b[38;5;241m.\u001b[39mappend(GradientBoostingClassifier(learning_rate\u001b[38;5;241m=\u001b[39m\u001b[38;5;241m0.1\u001b[39m, max_depth\u001b[38;5;241m=\u001b[39m\u001b[38;5;241m5\u001b[39m, n_estimators\u001b[38;5;241m=\u001b[39m\u001b[38;5;241m100\u001b[39m))\n\u001b[0;32m      7\u001b[0m \u001b[38;5;66;03m# Enlever la feature RAC1P du dataset\u001b[39;00m\n\u001b[1;32m----> 8\u001b[0m X_train\u001b[38;5;241m.\u001b[39mdrop(columns\u001b[38;5;241m=\u001b[39m[\u001b[38;5;124m'\u001b[39m\u001b[38;5;124mRAC1P\u001b[39m\u001b[38;5;124m'\u001b[39m], inplace\u001b[38;5;241m=\u001b[39m\u001b[38;5;28;01mTrue\u001b[39;00m)\n\u001b[0;32m      9\u001b[0m X_test\u001b[38;5;241m.\u001b[39mdrop(columns\u001b[38;5;241m=\u001b[39m[\u001b[38;5;124m'\u001b[39m\u001b[38;5;124mRAC1P\u001b[39m\u001b[38;5;124m'\u001b[39m], inplace\u001b[38;5;241m=\u001b[39m\u001b[38;5;28;01mTrue\u001b[39;00m)\n\u001b[0;32m     10\u001b[0m \u001b[38;5;28;01mfor\u001b[39;00m index, model \u001b[38;5;129;01min\u001b[39;00m \u001b[38;5;28menumerate\u001b[39m(models):\n",
      "File \u001b[1;32m~\\anaconda3\\envs\\projet-int\\Lib\\site-packages\\pandas\\core\\frame.py:5347\u001b[0m, in \u001b[0;36mDataFrame.drop\u001b[1;34m(self, labels, axis, index, columns, level, inplace, errors)\u001b[0m\n\u001b[0;32m   5199\u001b[0m \u001b[38;5;28;01mdef\u001b[39;00m \u001b[38;5;21mdrop\u001b[39m(\n\u001b[0;32m   5200\u001b[0m     \u001b[38;5;28mself\u001b[39m,\n\u001b[0;32m   5201\u001b[0m     labels: IndexLabel \u001b[38;5;241m|\u001b[39m \u001b[38;5;28;01mNone\u001b[39;00m \u001b[38;5;241m=\u001b[39m \u001b[38;5;28;01mNone\u001b[39;00m,\n\u001b[1;32m   (...)\u001b[0m\n\u001b[0;32m   5208\u001b[0m     errors: IgnoreRaise \u001b[38;5;241m=\u001b[39m \u001b[38;5;124m\"\u001b[39m\u001b[38;5;124mraise\u001b[39m\u001b[38;5;124m\"\u001b[39m,\n\u001b[0;32m   5209\u001b[0m ) \u001b[38;5;241m-\u001b[39m\u001b[38;5;241m>\u001b[39m DataFrame \u001b[38;5;241m|\u001b[39m \u001b[38;5;28;01mNone\u001b[39;00m:\n\u001b[0;32m   5210\u001b[0m \u001b[38;5;250m    \u001b[39m\u001b[38;5;124;03m\"\"\"\u001b[39;00m\n\u001b[0;32m   5211\u001b[0m \u001b[38;5;124;03m    Drop specified labels from rows or columns.\u001b[39;00m\n\u001b[0;32m   5212\u001b[0m \n\u001b[1;32m   (...)\u001b[0m\n\u001b[0;32m   5345\u001b[0m \u001b[38;5;124;03m            weight  1.0     0.8\u001b[39;00m\n\u001b[0;32m   5346\u001b[0m \u001b[38;5;124;03m    \"\"\"\u001b[39;00m\n\u001b[1;32m-> 5347\u001b[0m     \u001b[38;5;28;01mreturn\u001b[39;00m \u001b[38;5;28msuper\u001b[39m()\u001b[38;5;241m.\u001b[39mdrop(\n\u001b[0;32m   5348\u001b[0m         labels\u001b[38;5;241m=\u001b[39mlabels,\n\u001b[0;32m   5349\u001b[0m         axis\u001b[38;5;241m=\u001b[39maxis,\n\u001b[0;32m   5350\u001b[0m         index\u001b[38;5;241m=\u001b[39mindex,\n\u001b[0;32m   5351\u001b[0m         columns\u001b[38;5;241m=\u001b[39mcolumns,\n\u001b[0;32m   5352\u001b[0m         level\u001b[38;5;241m=\u001b[39mlevel,\n\u001b[0;32m   5353\u001b[0m         inplace\u001b[38;5;241m=\u001b[39minplace,\n\u001b[0;32m   5354\u001b[0m         errors\u001b[38;5;241m=\u001b[39merrors,\n\u001b[0;32m   5355\u001b[0m     )\n",
      "File \u001b[1;32m~\\anaconda3\\envs\\projet-int\\Lib\\site-packages\\pandas\\core\\generic.py:4711\u001b[0m, in \u001b[0;36mNDFrame.drop\u001b[1;34m(self, labels, axis, index, columns, level, inplace, errors)\u001b[0m\n\u001b[0;32m   4709\u001b[0m \u001b[38;5;28;01mfor\u001b[39;00m axis, labels \u001b[38;5;129;01min\u001b[39;00m axes\u001b[38;5;241m.\u001b[39mitems():\n\u001b[0;32m   4710\u001b[0m     \u001b[38;5;28;01mif\u001b[39;00m labels \u001b[38;5;129;01mis\u001b[39;00m \u001b[38;5;129;01mnot\u001b[39;00m \u001b[38;5;28;01mNone\u001b[39;00m:\n\u001b[1;32m-> 4711\u001b[0m         obj \u001b[38;5;241m=\u001b[39m obj\u001b[38;5;241m.\u001b[39m_drop_axis(labels, axis, level\u001b[38;5;241m=\u001b[39mlevel, errors\u001b[38;5;241m=\u001b[39merrors)\n\u001b[0;32m   4713\u001b[0m \u001b[38;5;28;01mif\u001b[39;00m inplace:\n\u001b[0;32m   4714\u001b[0m     \u001b[38;5;28mself\u001b[39m\u001b[38;5;241m.\u001b[39m_update_inplace(obj)\n",
      "File \u001b[1;32m~\\anaconda3\\envs\\projet-int\\Lib\\site-packages\\pandas\\core\\generic.py:4753\u001b[0m, in \u001b[0;36mNDFrame._drop_axis\u001b[1;34m(self, labels, axis, level, errors, only_slice)\u001b[0m\n\u001b[0;32m   4751\u001b[0m         new_axis \u001b[38;5;241m=\u001b[39m axis\u001b[38;5;241m.\u001b[39mdrop(labels, level\u001b[38;5;241m=\u001b[39mlevel, errors\u001b[38;5;241m=\u001b[39merrors)\n\u001b[0;32m   4752\u001b[0m     \u001b[38;5;28;01melse\u001b[39;00m:\n\u001b[1;32m-> 4753\u001b[0m         new_axis \u001b[38;5;241m=\u001b[39m axis\u001b[38;5;241m.\u001b[39mdrop(labels, errors\u001b[38;5;241m=\u001b[39merrors)\n\u001b[0;32m   4754\u001b[0m     indexer \u001b[38;5;241m=\u001b[39m axis\u001b[38;5;241m.\u001b[39mget_indexer(new_axis)\n\u001b[0;32m   4756\u001b[0m \u001b[38;5;66;03m# Case for non-unique axis\u001b[39;00m\n\u001b[0;32m   4757\u001b[0m \u001b[38;5;28;01melse\u001b[39;00m:\n",
      "File \u001b[1;32m~\\anaconda3\\envs\\projet-int\\Lib\\site-packages\\pandas\\core\\indexes\\base.py:6992\u001b[0m, in \u001b[0;36mIndex.drop\u001b[1;34m(self, labels, errors)\u001b[0m\n\u001b[0;32m   6990\u001b[0m \u001b[38;5;28;01mif\u001b[39;00m mask\u001b[38;5;241m.\u001b[39many():\n\u001b[0;32m   6991\u001b[0m     \u001b[38;5;28;01mif\u001b[39;00m errors \u001b[38;5;241m!=\u001b[39m \u001b[38;5;124m\"\u001b[39m\u001b[38;5;124mignore\u001b[39m\u001b[38;5;124m\"\u001b[39m:\n\u001b[1;32m-> 6992\u001b[0m         \u001b[38;5;28;01mraise\u001b[39;00m \u001b[38;5;167;01mKeyError\u001b[39;00m(\u001b[38;5;124mf\u001b[39m\u001b[38;5;124m\"\u001b[39m\u001b[38;5;132;01m{\u001b[39;00mlabels[mask]\u001b[38;5;241m.\u001b[39mtolist()\u001b[38;5;132;01m}\u001b[39;00m\u001b[38;5;124m not found in axis\u001b[39m\u001b[38;5;124m\"\u001b[39m)\n\u001b[0;32m   6993\u001b[0m     indexer \u001b[38;5;241m=\u001b[39m indexer[\u001b[38;5;241m~\u001b[39mmask]\n\u001b[0;32m   6994\u001b[0m \u001b[38;5;28;01mreturn\u001b[39;00m \u001b[38;5;28mself\u001b[39m\u001b[38;5;241m.\u001b[39mdelete(indexer)\n",
      "\u001b[1;31mKeyError\u001b[0m: \"['RAC1P'] not found in axis\""
     ]
    }
   ],
   "source": [
    "# On garde les memes modèles qu'avant avec les memes paramètres juste mnt on va faire des nouvelles instances de modelès pour fair l'apprentissage\n",
    "models = [SVR(C= 0.1, kernel= 'rbf')]\n",
    "models.append(RandomForestClassifier(max_depth = 10, min_samples_leaf = 4, min_samples_split= 10, n_estimators =  200))\n",
    "models.append(AdaBoostClassifier(learning_rate= 1.0, n_estimators=200))\n",
    "models.append(GradientBoostingClassifier(learning_rate=0.1, max_depth=5, n_estimators=100))\n",
    "\n",
    "# Enlever la feature RAC1P du dataset\n",
    "X_train.drop(columns=['RAC1P'], inplace=True)\n",
    "X_test.drop(columns=['RAC1P'], inplace=True)\n",
    "for index, model in enumerate(models):\n",
    "    print(\">> {}\".format(names[index]))\n",
    "    model.fit(X_train,y_train)\n",
    "    y_pred_ = model.predict(X_test)\n",
    "    plot_confusion_matrix(confusion_matrix(y_test, y_pred_.round()))"
   ]
  }
 ],
 "metadata": {
  "kernelspec": {
   "display_name": "Python 3 (ipykernel)",
   "language": "python",
   "name": "python3"
  },
  "language_info": {
   "codemirror_mode": {
    "name": "ipython",
    "version": 3
   },
   "file_extension": ".py",
   "mimetype": "text/x-python",
   "name": "python",
   "nbconvert_exporter": "python",
   "pygments_lexer": "ipython3",
   "version": "3.11.5"
  }
 },
 "nbformat": 4,
 "nbformat_minor": 5
}
