{
 "cells": [
  {
   "cell_type": "code",
   "execution_count": 23,
   "id": "3e9378d0",
   "metadata": {},
   "outputs": [],
   "source": [
    "import numpy as np\n",
    "import pandas as pd\n",
    "from sklearn.svm import SVC\n",
    "from sklearn.preprocessing import OneHotEncoder\n",
    "from sklearn.preprocessing import RobustScaler\n",
    "from sklearn.model_selection import train_test_split\n",
    "from sklearn.model_selection import cross_val_score\n",
    "import os\n",
    "import time\n",
    "import warnings\n",
    "warnings.filterwarnings('ignore')"
   ]
  },
  {
   "cell_type": "code",
   "execution_count": 24,
   "id": "17241499",
   "metadata": {},
   "outputs": [
    {
     "data": {
      "text/html": [
       "<div>\n",
       "<style scoped>\n",
       "    .dataframe tbody tr th:only-of-type {\n",
       "        vertical-align: middle;\n",
       "    }\n",
       "\n",
       "    .dataframe tbody tr th {\n",
       "        vertical-align: top;\n",
       "    }\n",
       "\n",
       "    .dataframe thead th {\n",
       "        text-align: right;\n",
       "    }\n",
       "</style>\n",
       "<table border=\"1\" class=\"dataframe\">\n",
       "  <thead>\n",
       "    <tr style=\"text-align: right;\">\n",
       "      <th></th>\n",
       "      <th>AGEP</th>\n",
       "      <th>COW</th>\n",
       "      <th>SCHL</th>\n",
       "      <th>MAR</th>\n",
       "      <th>OCCP</th>\n",
       "      <th>POBP</th>\n",
       "      <th>RELP</th>\n",
       "      <th>WKHP</th>\n",
       "      <th>SEX</th>\n",
       "      <th>RAC1P</th>\n",
       "    </tr>\n",
       "  </thead>\n",
       "  <tbody>\n",
       "    <tr>\n",
       "      <th>0</th>\n",
       "      <td>30.0</td>\n",
       "      <td>6.0</td>\n",
       "      <td>14.0</td>\n",
       "      <td>1.0</td>\n",
       "      <td>9610.0</td>\n",
       "      <td>6.0</td>\n",
       "      <td>16.0</td>\n",
       "      <td>40.0</td>\n",
       "      <td>1.0</td>\n",
       "      <td>8.0</td>\n",
       "    </tr>\n",
       "    <tr>\n",
       "      <th>1</th>\n",
       "      <td>21.0</td>\n",
       "      <td>4.0</td>\n",
       "      <td>16.0</td>\n",
       "      <td>5.0</td>\n",
       "      <td>1970.0</td>\n",
       "      <td>6.0</td>\n",
       "      <td>17.0</td>\n",
       "      <td>20.0</td>\n",
       "      <td>1.0</td>\n",
       "      <td>1.0</td>\n",
       "    </tr>\n",
       "    <tr>\n",
       "      <th>2</th>\n",
       "      <td>65.0</td>\n",
       "      <td>2.0</td>\n",
       "      <td>22.0</td>\n",
       "      <td>5.0</td>\n",
       "      <td>2040.0</td>\n",
       "      <td>6.0</td>\n",
       "      <td>17.0</td>\n",
       "      <td>8.0</td>\n",
       "      <td>1.0</td>\n",
       "      <td>1.0</td>\n",
       "    </tr>\n",
       "    <tr>\n",
       "      <th>3</th>\n",
       "      <td>33.0</td>\n",
       "      <td>1.0</td>\n",
       "      <td>14.0</td>\n",
       "      <td>3.0</td>\n",
       "      <td>9610.0</td>\n",
       "      <td>36.0</td>\n",
       "      <td>16.0</td>\n",
       "      <td>40.0</td>\n",
       "      <td>1.0</td>\n",
       "      <td>1.0</td>\n",
       "    </tr>\n",
       "    <tr>\n",
       "      <th>4</th>\n",
       "      <td>18.0</td>\n",
       "      <td>2.0</td>\n",
       "      <td>19.0</td>\n",
       "      <td>5.0</td>\n",
       "      <td>1021.0</td>\n",
       "      <td>6.0</td>\n",
       "      <td>17.0</td>\n",
       "      <td>18.0</td>\n",
       "      <td>2.0</td>\n",
       "      <td>1.0</td>\n",
       "    </tr>\n",
       "  </tbody>\n",
       "</table>\n",
       "</div>"
      ],
      "text/plain": [
       "   AGEP  COW  SCHL  MAR    OCCP  POBP  RELP  WKHP  SEX  RAC1P\n",
       "0  30.0  6.0  14.0  1.0  9610.0   6.0  16.0  40.0  1.0    8.0\n",
       "1  21.0  4.0  16.0  5.0  1970.0   6.0  17.0  20.0  1.0    1.0\n",
       "2  65.0  2.0  22.0  5.0  2040.0   6.0  17.0   8.0  1.0    1.0\n",
       "3  33.0  1.0  14.0  3.0  9610.0  36.0  16.0  40.0  1.0    1.0\n",
       "4  18.0  2.0  19.0  5.0  1021.0   6.0  17.0  18.0  2.0    1.0"
      ]
     },
     "execution_count": 24,
     "metadata": {},
     "output_type": "execute_result"
    }
   ],
   "source": [
    "dataset_feature = pd.read_csv(\"acsincome_ca_features.csv\")  \n",
    "dataset_labels = pd.read_csv(\"acsincome_ca_labels.csv\") \n",
    "dataset_feature.head()"
   ]
  },
  {
   "cell_type": "code",
   "execution_count": 25,
   "id": "6205acc2",
   "metadata": {},
   "outputs": [
    {
     "data": {
      "text/html": [
       "<div>\n",
       "<style scoped>\n",
       "    .dataframe tbody tr th:only-of-type {\n",
       "        vertical-align: middle;\n",
       "    }\n",
       "\n",
       "    .dataframe tbody tr th {\n",
       "        vertical-align: top;\n",
       "    }\n",
       "\n",
       "    .dataframe thead th {\n",
       "        text-align: right;\n",
       "    }\n",
       "</style>\n",
       "<table border=\"1\" class=\"dataframe\">\n",
       "  <thead>\n",
       "    <tr style=\"text-align: right;\">\n",
       "      <th></th>\n",
       "      <th>PINCP</th>\n",
       "    </tr>\n",
       "  </thead>\n",
       "  <tbody>\n",
       "    <tr>\n",
       "      <th>0</th>\n",
       "      <td>False</td>\n",
       "    </tr>\n",
       "    <tr>\n",
       "      <th>1</th>\n",
       "      <td>False</td>\n",
       "    </tr>\n",
       "    <tr>\n",
       "      <th>2</th>\n",
       "      <td>False</td>\n",
       "    </tr>\n",
       "    <tr>\n",
       "      <th>3</th>\n",
       "      <td>False</td>\n",
       "    </tr>\n",
       "    <tr>\n",
       "      <th>4</th>\n",
       "      <td>False</td>\n",
       "    </tr>\n",
       "  </tbody>\n",
       "</table>\n",
       "</div>"
      ],
      "text/plain": [
       "   PINCP\n",
       "0  False\n",
       "1  False\n",
       "2  False\n",
       "3  False\n",
       "4  False"
      ]
     },
     "execution_count": 25,
     "metadata": {},
     "output_type": "execute_result"
    }
   ],
   "source": [
    "dataset_labels.head()"
   ]
  },
  {
   "cell_type": "code",
   "execution_count": 26,
   "id": "683f698d",
   "metadata": {},
   "outputs": [
    {
     "data": {
      "text/plain": [
       "(195665, 10)"
      ]
     },
     "execution_count": 26,
     "metadata": {},
     "output_type": "execute_result"
    }
   ],
   "source": [
    "dataset_feature.shape"
   ]
  },
  {
   "cell_type": "code",
   "execution_count": 27,
   "id": "fc4c731d",
   "metadata": {},
   "outputs": [
    {
     "data": {
      "text/plain": [
       "(195665, 1)"
      ]
     },
     "execution_count": 27,
     "metadata": {},
     "output_type": "execute_result"
    }
   ],
   "source": [
    "dataset_labels.shape"
   ]
  },
  {
   "cell_type": "code",
   "execution_count": 28,
   "id": "8c556a98",
   "metadata": {},
   "outputs": [
    {
     "name": "stdout",
     "output_type": "stream",
     "text": [
      "PINCP\n",
      "False    115330\n",
      "True      80335\n",
      "Name: count, dtype: int64\n"
     ]
    }
   ],
   "source": [
    "dist = dataset_labels['PINCP'].value_counts()\n",
    "print(dist)"
   ]
  },
  {
   "cell_type": "code",
   "execution_count": 29,
   "id": "39fd6fcc",
   "metadata": {},
   "outputs": [
    {
     "data": {
      "text/plain": [
       "AGEP     0\n",
       "COW      0\n",
       "SCHL     0\n",
       "MAR      0\n",
       "OCCP     0\n",
       "POBP     0\n",
       "RELP     0\n",
       "WKHP     0\n",
       "SEX      0\n",
       "RAC1P    0\n",
       "dtype: int64"
      ]
     },
     "execution_count": 29,
     "metadata": {},
     "output_type": "execute_result"
    }
   ],
   "source": [
    "# count of NaN in each column\n",
    "dataset_feature.isna().sum()\n",
    "#fraud_data.isnull().sum(axis = 0)"
   ]
  },
  {
   "cell_type": "code",
   "execution_count": 30,
   "id": "d6daa939",
   "metadata": {},
   "outputs": [
    {
     "data": {
      "text/plain": [
       "PINCP    0\n",
       "dtype: int64"
      ]
     },
     "execution_count": 30,
     "metadata": {},
     "output_type": "execute_result"
    }
   ],
   "source": [
    "dataset_labels.isna().sum()"
   ]
  },
  {
   "cell_type": "code",
   "execution_count": 39,
   "id": "45451d23",
   "metadata": {},
   "outputs": [],
   "source": [
    "from sklearn.utils import shuffle\n",
    "X, y = shuffle(dataset_feature, dataset_labels, random_state=1)\n",
    "# only use the first N samples to limit training time\n",
    "num_samples = int(len(X)*0.1)\n",
    "X_, y_ = X[:num_samples], y[:num_samples]"
   ]
  },
  {
   "cell_type": "code",
   "execution_count": 51,
   "id": "b4dafded",
   "metadata": {},
   "outputs": [],
   "source": [
    "from sklearn.model_selection import train_test_split\n",
    "from sklearn.preprocessing import StandardScaler\n",
    "scaler  = StandardScaler()\n",
    "\n",
    "# Adapter le scaler aux données et le transformer\n",
    "X_scaled = scaler.fit_transform(X_)\n"
   ]
  },
  {
   "cell_type": "code",
   "execution_count": 52,
   "id": "f2c3870c",
   "metadata": {},
   "outputs": [
    {
     "name": "stdout",
     "output_type": "stream",
     "text": [
      "X_train.shape: (15652, 10)\n",
      "y_train.shape: (15652, 1)\n",
      "X_test.shape: (3914, 10)\n",
      "y_test.shape: (3914, 1)\n"
     ]
    }
   ],
   "source": [
    "\n",
    "#split into train/test\n",
    "X_train, X_test, y_train, y_test = train_test_split(X_scaled,y_,test_size=0.2)\n",
    "print(\"X_train.shape:\", X_train.shape)\n",
    "print(\"y_train.shape:\", y_train.shape)\n",
    "print(\"X_test.shape:\", X_test.shape)\n",
    "print(\"y_test.shape:\", y_test.shape)"
   ]
  },
  {
   "cell_type": "code",
   "execution_count": 54,
   "id": "b472736b",
   "metadata": {},
   "outputs": [
    {
     "name": "stdout",
     "output_type": "stream",
     "text": [
      "Moyenne des scores de validation croisée SVM : 0.7853311265373678\n"
     ]
    }
   ],
   "source": [
    "from sklearn.model_selection import cross_val_score\n",
    "from sklearn import svm\n",
    "\n",
    "# Créer le modèle SVM\n",
    "svm_model = svm.SVC(kernel='linear')   # Vous pouvez choisir le noyau qui convient à votre problème\n",
    "\n",
    "# Appliquer la validation croisée\n",
    "cross_val_scores_svm = cross_val_score(svm_model, X_train,y_train, cv=5)  # cv représente le nombre de plis\n",
    "\n",
    "# Afficher les résultats de la validation croisée\n",
    "print(\"Moyenne des scores de validation croisée SVM :\", np.mean(cross_val_scores_svm))\n"
   ]
  },
  {
   "cell_type": "code",
   "execution_count": 55,
   "id": "cb28a690",
   "metadata": {},
   "outputs": [
    {
     "name": "stdout",
     "output_type": "stream",
     "text": [
      "Moyenne des scores de validation croisée Random Forest : 0.8031568474790383\n"
     ]
    }
   ],
   "source": [
    "from sklearn.ensemble import RandomForestClassifier\n",
    "\n",
    "# Créer le modèle Random Forest\n",
    "rf_model = RandomForestClassifier(n_estimators=100)  \n",
    "# Appliquer la validation croisée\n",
    "cross_val_scores_rf = cross_val_score(rf_model, X_train,y_train, cv=5)\n",
    "\n",
    "# Afficher les résultats de la validation croisée\n",
    "print(\"Moyenne des scores de validation croisée Random Forest :\", np.mean(cross_val_scores_rf))\n"
   ]
  },
  {
   "cell_type": "code",
   "execution_count": 56,
   "id": "242829d1",
   "metadata": {},
   "outputs": [
    {
     "name": "stdout",
     "output_type": "stream",
     "text": [
      "Moyenne des scores de validation croisée AdaBoost : 0.8059030635620503\n"
     ]
    }
   ],
   "source": [
    "from sklearn.ensemble import AdaBoostClassifier\n",
    "\n",
    "# Créer le modèle AdaBoost\n",
    "adaboost_model = AdaBoostClassifier(n_estimators=50)  # Vous pouvez ajuster le nombre d'estimateurs selon votre besoin\n",
    "\n",
    "# Appliquer la validation croisée\n",
    "cross_val_scores_adaboost = cross_val_score(adaboost_model,X_train,y_train, cv=5)\n",
    "\n",
    "# Afficher les résultats de la validation croisée\n",
    "print(\"Moyenne des scores de validation croisée AdaBoost :\", np.mean(cross_val_scores_adaboost))\n"
   ]
  },
  {
   "cell_type": "code",
   "execution_count": 57,
   "id": "1844f639",
   "metadata": {},
   "outputs": [
    {
     "name": "stdout",
     "output_type": "stream",
     "text": [
      "Moyenne des scores de validation croisée Gradient Boosting : 0.8127401446730265\n"
     ]
    }
   ],
   "source": [
    "from sklearn.ensemble import GradientBoostingClassifier\n",
    "\n",
    "# Créer le modèle Gradient Boosting\n",
    "gradientboost_model = GradientBoostingClassifier(n_estimators=100)  # Vous pouvez ajuster le nombre d'estimateurs selon votre besoin\n",
    "\n",
    "# Appliquer la validation croisée\n",
    "cross_val_scores_gradientboost = cross_val_score(gradientboost_model,X_train,y_train, cv=5)\n",
    "\n",
    "# Afficher les résultats de la validation croisée\n",
    "print(\"Moyenne des scores de validation croisée Gradient Boosting :\", np.mean(cross_val_scores_gradientboost))"
   ]
  },
  {
   "cell_type": "code",
   "execution_count": 62,
   "id": "08932071",
   "metadata": {},
   "outputs": [
    {
     "name": "stdout",
     "output_type": "stream",
     "text": [
      "Evaluation de la qualité du modèle d’apprentissage : SVC(kernel='linear')\n",
      "Accuracy du modèle : 0.776188042922841\n",
      "Classification Report :\n",
      "               precision    recall  f1-score   support\n",
      "\n",
      "       False       0.80      0.82      0.81      2300\n",
      "        True       0.73      0.72      0.73      1614\n",
      "\n",
      "    accuracy                           0.78      3914\n",
      "   macro avg       0.77      0.77      0.77      3914\n",
      "weighted avg       0.78      0.78      0.78      3914\n",
      "\n",
      "Confusion Matrix :\n",
      " [[1883  417]\n",
      " [ 459 1155]]\n",
      "------------------------------------------------------------------------------------\n",
      "Evaluation de la qualité du modèle d’apprentissage : RandomForestClassifier()\n",
      "Accuracy du modèle : 0.8030148185998978\n",
      "Classification Report :\n",
      "               precision    recall  f1-score   support\n",
      "\n",
      "       False       0.83      0.84      0.83      2300\n",
      "        True       0.77      0.75      0.76      1614\n",
      "\n",
      "    accuracy                           0.80      3914\n",
      "   macro avg       0.80      0.79      0.80      3914\n",
      "weighted avg       0.80      0.80      0.80      3914\n",
      "\n",
      "Confusion Matrix :\n",
      " [[1934  366]\n",
      " [ 405 1209]]\n",
      "------------------------------------------------------------------------------------\n",
      "Evaluation de la qualité du modèle d’apprentissage : AdaBoostClassifier()\n",
      "Accuracy du modèle : 0.8071027082268779\n",
      "Classification Report :\n",
      "               precision    recall  f1-score   support\n",
      "\n",
      "       False       0.83      0.84      0.84      2300\n",
      "        True       0.77      0.76      0.76      1614\n",
      "\n",
      "    accuracy                           0.81      3914\n",
      "   macro avg       0.80      0.80      0.80      3914\n",
      "weighted avg       0.81      0.81      0.81      3914\n",
      "\n",
      "Confusion Matrix :\n",
      " [[1936  364]\n",
      " [ 391 1223]]\n",
      "------------------------------------------------------------------------------------\n",
      "Evaluation de la qualité du modèle d’apprentissage : GradientBoostingClassifier()\n",
      "Accuracy du modèle : 0.8091466530403679\n",
      "Classification Report :\n",
      "               precision    recall  f1-score   support\n",
      "\n",
      "       False       0.83      0.85      0.84      2300\n",
      "        True       0.78      0.76      0.77      1614\n",
      "\n",
      "    accuracy                           0.81      3914\n",
      "   macro avg       0.80      0.80      0.80      3914\n",
      "weighted avg       0.81      0.81      0.81      3914\n",
      "\n",
      "Confusion Matrix :\n",
      " [[1946  354]\n",
      " [ 393 1221]]\n",
      "------------------------------------------------------------------------------------\n"
     ]
    }
   ],
   "source": [
    "from sklearn.metrics import accuracy_score, classification_report, confusion_matrix\n",
    "from sklearn.svm import SVC\n",
    "import numpy as np\n",
    "# Créer une instance du modèle SVM avec un noyau linéaire\n",
    "svm_model = SVC(kernel='linear')\n",
    "rf_model = RandomForestClassifier(n_estimators=100) \n",
    "adaboost_model = AdaBoostClassifier(n_estimators=50)\n",
    "gradientboost_model = GradientBoostingClassifier(n_estimators=100)\n",
    "\n",
    "models=[svm_model,rf_model,adaboost_model,gradientboost_model]\n",
    "def evaluation_metrics(model):\n",
    "    # Entraîner le modèle\n",
    "    model.fit(X_train, y_train)\n",
    "    \n",
    "    # Faire des prédictions sur l'ensemble de test\n",
    "    y_pred = model.predict(X_test)\n",
    "\n",
    "    # Évaluer l'accuracy\n",
    "    accuracy = accuracy_score(y_test, y_pred)\n",
    "    print(\"Accuracy du modèle :\", accuracy)\n",
    "\n",
    "    # Afficher le classification report\n",
    "    class_report = classification_report(y_test, y_pred)\n",
    "    print(\"Classification Report :\\n\", class_report)\n",
    "\n",
    "    # Afficher la confusion matrix\n",
    "    conf_matrix = confusion_matrix(y_test, y_pred)\n",
    "    print(\"Confusion Matrix :\\n\", conf_matrix)\n",
    "\n",
    "    \n",
    "for model in models:\n",
    "    print(\"Evaluation de la qualité du modèle d’apprentissage :\",model)\n",
    "    evaluation_metrics(model)\n",
    "    print(\"------------------------------------------------------------------------------------\")\n"
   ]
  },
  {
   "cell_type": "code",
   "execution_count": null,
   "id": "45541cc0",
   "metadata": {},
   "outputs": [],
   "source": [
    "from sklearn.model_selection import GridSearchCV\n",
    "# Définir la grille des hyperparamètres à rechercher\n",
    "svm_param_grid = {'C': [0.1, 1, 10, 100],\n",
    "                  'kernel': ['rbf'],\n",
    "                  'gamma': [0.01, 0.1, 1, 10]}\n",
    "\n",
    "rf_param_grid = {'n_estimators': [50, 100, 200],\n",
    "                 'max_depth': [None, 10, 20, 30],\n",
    "                 'min_samples_split': [2, 5, 10],\n",
    "                 'min_samples_leaf': [1, 2, 4]}\n",
    "\n",
    "adaboost_param_grid = {'n_estimators': [50, 100, 200],\n",
    "                      'learning_rate': [0.01, 0.1, 1.0],\n",
    "                      'base_estimator': [None, DecisionTreeClassifier(max_depth=1)]}\n",
    "\n",
    "gradientboost_param_grid = {'n_estimators': [50, 100, 200],\n",
    "                           'learning_rate': [0.01, 0.1, 0.2],\n",
    "                           'max_depth': [3, 5, 7],\n",
    "                           'min_samples_split': [2, 5, 10]}\n",
    "def model_grid_search(model,grid_search):\n",
    "    grid_search = GridSearchCV(model, svm_param_grid, cv=5, scoring='accuracy')\n",
    "    grid_search.fit(X_train, y_train)\n",
    "    \n",
    "    \n",
    "grid_sreachs=[svm_param_grid,rf_param_grid ,adaboost_param_grid,gradientboost_param_grid]\n",
    "\n",
    "for grid in grid_sreachs:\n",
    "    \n"
   ]
  }
 ],
 "metadata": {
  "kernelspec": {
   "display_name": "Python 3 (ipykernel)",
   "language": "python",
   "name": "python3"
  },
  "language_info": {
   "codemirror_mode": {
    "name": "ipython",
    "version": 3
   },
   "file_extension": ".py",
   "mimetype": "text/x-python",
   "name": "python",
   "nbconvert_exporter": "python",
   "pygments_lexer": "ipython3",
   "version": "3.11.5"
  }
 },
 "nbformat": 4,
 "nbformat_minor": 5
}
